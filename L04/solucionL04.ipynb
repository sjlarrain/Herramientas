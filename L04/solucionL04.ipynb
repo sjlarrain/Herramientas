{
 "cells": [
  {
   "cell_type": "code",
   "execution_count": null,
   "metadata": {},
   "outputs": [],
   "source": [
    "import sqlite3\n",
    "def total_filas(cursor, table_name):\n",
    "    cursor.execute('SELECT COUNT(*) FROM {}'.format(table_name)) #Cuenta la cantidad de datos\n",
    "    count = cursor.fetchall()\n",
    "    return count[0][0]\n",
    "\n",
    "\n",
    "def total_columnas(cursor, table_name):\n",
    "    cursor.execute('PRAGMA TABLE_INFO({})'.format(table_name))#Da la cantidad de clumnas\n",
    "    info = len(cursor.fetchall())#Devuelve el largo de la lista que es equivalente a la cantidad de columnas\n",
    "    return info\n",
    "\n",
    "def consultas(cursor, tabla, restriccion,elemento=\"*\"):\n",
    "    comand='SELECT{2} FROM {0} X WHERE X.{1}'.format(tabla,restriccion,elemento)#Generador de consultas\n",
    "    c.execute(comand)\n",
    "    x=c.fetchall()\n",
    "    return x\n",
    "\n",
    "def consulta_columna(cursor,tabla,columna,limite=\"\"): #Generador de consultas\n",
    "    comand='SELECT  X.{1} FROM {0} X {2}'.format(tabla,columna,limite)\n",
    "    c.execute(comand)\n",
    "    return c.fetchall()\n",
    "def creador_tabla(cursor,nombre,keys,primaria=[],foraneas=[]): #Creador de tablas\n",
    "    data=keys+primaria+foraneas\n",
    "    datos=\",\".join(data)\n",
    "    print(datos)\n",
    "    cursor.execute('CREATE TABLE {} ({})'.format(nombre,datos))\n",
    "conn=sqlite3.connect('eod.db')\n",
    "c=conn.cursor()"
   ]
  },
  {
   "cell_type": "markdown",
   "metadata": {},
   "source": [
    "# MISION 1"
   ]
  },
  {
   "cell_type": "code",
   "execution_count": null,
   "metadata": {},
   "outputs": [],
   "source": [
    "M1=[]\n",
    "c.execute(\"SELECT name FROM sqlite_master WHERE type='table';\") #Obtiene todas las tablas de la base\n",
    "names=c.fetchall() \n",
    "for e in names: #Recorre las tablas y obtiene sus filas y columnas\n",
    "    filas=total_filas(c,e[0])\n",
    "    columnas=total_columnas(c,e[0])\n",
    "    M1.append([e[0],filas,columnas])\n",
    "print(M1) #Devuelve el resultado"
   ]
  },
  {
   "cell_type": "markdown",
   "metadata": {},
   "source": [
    "# MISION 2"
   ]
  },
  {
   "cell_type": "code",
   "execution_count": null,
   "metadata": {},
   "outputs": [],
   "source": [
    "M2=c.execute('SELECT* FROM Hogares H WHERE H.NumPer>=3 LIMIT 10') #Obtiene los 10 primeros individuos que cumplen la\n",
    "M2_r=c.fetchall()                                               #condicion impuesta\n",
    "print(M2_r)"
   ]
  },
  {
   "cell_type": "markdown",
   "metadata": {},
   "source": [
    "# MISION 3"
   ]
  },
  {
   "cell_type": "code",
   "execution_count": null,
   "metadata": {},
   "outputs": [],
   "source": [
    "M3=[]\n",
    "errables=[('DistanciaViaje','DistEuclidiana'),('DistanciaViaje','DistManhattan'),('Viajes','HoraIni'),\n",
    "          ('Viajes','HoraFin'),('Viajes','HoraMedia'),('Viajes','TiempoViaje')] #Se busco opciones que podrían tener numero\n",
    "                                                                                #Negativos\n",
    "for e in errables:\n",
    "    g=consultas(c,e[0],e[1]+'<0') #Se generaba una consulta con la condición\n",
    "    if len(g)>0: #Si la respuesta era mayor a cero se le consideraba como errable\n",
    "        M3.append(e)\n",
    "print(M3)"
   ]
  },
  {
   "cell_type": "markdown",
   "metadata": {},
   "source": [
    "# MISION 4"
   ]
  },
  {
   "cell_type": "code",
   "execution_count": null,
   "metadata": {},
   "outputs": [],
   "source": [
    "columnas=dict()\n",
    "for e in names:        #Obteniamos la tabla y sacabamos sus columnas\n",
    "    columnas_tabla=[]\n",
    "    c.execute('PRAGMA table_info([{}])'.format(e[0]))\n",
    "    x=c.fetchall()\n",
    "    for f in x:\n",
    "        columnas_tabla.append(f[1]) \n",
    "    columnas.update({e[0]:columnas_tabla}) #Haciamos un diccionario con la informacion de cada tabla con sus colunas\n",
    "\n",
    "for e in columnas.keys(): #Recorremos cada tabla\n",
    "    cambios=[]\n",
    "    for f in columnas[e]:\n",
    "        x=consulta_columna(c,e,f,'LIMIT 1') #Sacamos solo el primer resultado para analizarlo\n",
    "        if str(x[0][0]).isdigit(): #Si contenia digito la consideramos como elemento a cambiar\n",
    "            cambios.append(f)\n",
    "    col=[]\n",
    "    for f in columnas[e]: #recorremos las columnas de la tabla\n",
    "        if f in cambios: #Si estaba en los cambios se le aplica un cambio a INTEGER de lo contrario queda en TEXT\n",
    "            elem=str(f)+r\" INTEGER\"\n",
    "        else:\n",
    "            elem=str(f)+r' TEXT' \n",
    "        col.append(elem)\n",
    "    if \"Personas\" in columnas[e]: #Adjuntamos las primary key necesarias\n",
    "        if e==\"Personas\":\n",
    "            col.append('PRIMARY KEY (Persona)')\n",
    "        else:\n",
    "            col.append('FOREIGN KEY (Persona) REFERENCES Personas')\n",
    "    if \"Hogar\" in columnas[e]:\n",
    "        if e==\"Hogares\":\n",
    "            col.append('PRIMARY KEY (Hogar)')\n",
    "        else:\n",
    "            col.append('FOREIGN KEY (Hogar) REFERENCES Hogares')\n",
    "    if \"Viaje\" in columnas[e]:\n",
    "        if e==\"Viajes\":\n",
    "            col.append('PRIMARY KEY (Viaje)')\n",
    "        else:\n",
    "            col.append('FOREIGN KEY (Viaje) REFERENCES Viajes')\n",
    "    campos=\",\".join(col)   #Creamos los elementos para la creacion\n",
    "    campos_nt=\",\".join(columnas[e])\n",
    "    c.execute('ALTER TABLE {} RENAME TO fake'.format(e)) #Cambiamos el nombre de la tabla\n",
    "    c.execute('CREATE TABLE {} ({})'.format(e,campos)) #Creamos una nueva tabla\n",
    "    c.execute('INSERT INTO {0}({1}) SELECT {1} FROM fake'.format(e,campos_nt))#Insertamos los datos de fake a la nueva tabla\n",
    "    c.execute('DROP TABLE main.\"fake\"')#elimanos fake\n",
    "conn.commit()  \n",
    "\n"
   ]
  },
  {
   "cell_type": "markdown",
   "metadata": {},
   "source": [
    "# MISION 5"
   ]
  },
  {
   "cell_type": "code",
   "execution_count": null,
   "metadata": {},
   "outputs": [],
   "source": [
    "M5_aC='''SELECT X.Persona, X.Sexo, Y.Edad, X.LicenciaConducir \n",
    "FROM Personas X, EdadPersonas Y \n",
    "WHERE X.Sexo=1 \n",
    "AND X.LicenciaConducir!=1 LIMIT 100''' #Consulta y obtenemos los 100 primeros datos para trabajar\n",
    "M5_a=c.execute(M5_aC)\n",
    "M5_ar=c.fetchall()\n",
    "key_tablaM5_b=['Persona INTEGER', 'Sexo INTEGER', 'Edad INTEGER', 'LicenciaConducir TEXT'] #Aplicamos los contenidos a\n",
    "primaryKey_tablaM5_b=['FOREIGN KEY (Persona) REFERENCES Personas']                         #para la tabla a crear\n",
    "M5_tabla=creador_tabla(c,'HombresConductores',key_tablaM5_b,primaryKey_tablaM5_b) #Creamos la tabla\n",
    "for e in M5_ar:\n",
    "    c.execute('INSERT INTO HombresConductores VALUES({},{},{},\"{}\")'.format(e[0],e[1],e[2],e[3])) #Introducimos los valores\n",
    "consultas(c,'HombresConductores','Edad>29 AND X.Edad<46') #Nueva consulta\n",
    "M5_br=c.fetchall() #Obtenemos resultados y los retornamos con el print\n",
    "print(M5_br) \n",
    "conn.commit()"
   ]
  },
  {
   "cell_type": "markdown",
   "metadata": {},
   "source": [
    "# MISION 6"
   ]
  },
  {
   "cell_type": "code",
   "execution_count": null,
   "metadata": {},
   "outputs": [],
   "source": [
    "class Persona:\n",
    "    def __init__(self,rut,edad,sexo,comuna): #Clase persona con los datos exigidos\n",
    "        self.rut=rut\n",
    "        self.edad=edad\n",
    "        if sexo==1:\n",
    "            self.sexo=\"M\"\n",
    "        else:\n",
    "            self.sexo=\"F\"\n",
    "        self.comuna=comuna\n",
    "    def __str__(self):\n",
    "        return ('Rut:{},Edad:{},Sexo:{},Comuna{}'.format(self.rut,self.edad,self.sexo,self.comuna))\n",
    "def m6_funcion(c,distancia,modo): #Se hace la consulta que se exige\n",
    "    M6_c=c.execute('''SELECT X.Persona, X.Sexo, Y.Edad, Z.Comuna \n",
    "                        FROM Viajes U,DistanciaViaje W, Personas X, EdadPersonas Y, Hogares Z \n",
    "                        WHERE W.DistEuclidiana>{} AND U.MediosUsados={} LIMIT 10'''.format(distancia,modo))\n",
    "    M6_r=c.fetchall() #Obtenemos los datos\n",
    "    personas=[]\n",
    "    for e in M6_r: #Creamos un objeto con los datos exigidos\n",
    "        people=Persona(e[0],e[1],e[2],e[3])\n",
    "        personas.append(people)\n",
    "    personas.append(Persona(M6_r[0],M6_r[1],M6_r[2],M6_r[3])) #Los guardamos en la lista para ser devuelto\n",
    "    return personas\n",
    "\n",
    "M6_response=m6_funcion(c,100000000,3)"
   ]
  },
  {
   "cell_type": "markdown",
   "metadata": {},
   "source": [
    "# MISION 7"
   ]
  },
  {
   "cell_type": "code",
   "execution_count": null,
   "metadata": {},
   "outputs": [],
   "source": [
    "class Persona:\n",
    "    def __init__(self,rut,edad,sexo,comuna,convivientes,vehiculos,bicicletas):\n",
    "        self.rut=rut\n",
    "        self.edad=edad\n",
    "        if sexo==1:\n",
    "            self.sexo=\"M\"\n",
    "        else:\n",
    "            self.sexo=\"F\"\n",
    "        self.comuna=comuna\n",
    "        self.convivientes=convivientes\n",
    "        self.bicicletas=bicicletas\n",
    "        self.vehiculos=vehiculos\n",
    "    def __str__(self):\n",
    "        return ('Rut:{},Edad:{},Sexo:{},Comuna:{},N°Habitantes:{},N°Bicicletas{},N°Vehiculos{}'.format(self.rut,self.edad,self.sexo,self.comuna,self.convivientes,self.bicicletas,self.vehiculos))\n",
    "\n",
    "def m7_funcion(c,sexo,edad): #Funcion con los parametros para la consulta a realizar\n",
    "    if sexo==\"M\":\n",
    "        sexo=1\n",
    "    else:\n",
    "        sexo=2\n",
    "    c.execute('''SELECT DISTINCT X.Persona, X.Sexo, Y.Edad, Z.Comuna, V.NumPer, V.NumVeh, V.NumBicAdulto, V.NumBicNino \n",
    "                FROM Hogares V, Viajes U,DistanciaViaje W, Personas X, EdadPersonas Y, Hogares Z \n",
    "                WHERE Y.Edad={} AND X.Sexo={} LIMIT 10'''.format(edad,sexo))\n",
    "    M7_r=c.fetchall()\n",
    "    personas=[]\n",
    "    for e in M7_r: #Recorremos y creamos la persona deseada con los componentes\n",
    "        people=Persona(e[0],e[1],e[2],e[3],e[4],e[5],e[6]+e[7])\n",
    "        personas.append(people)\n",
    "    return personas\n",
    "\n",
    "M7_response=m7_funcion(c,\"F\",30)\n",
    "\n",
    "    "
   ]
  },
  {
   "cell_type": "markdown",
   "metadata": {},
   "source": [
    "# MISION 8"
   ]
  },
  {
   "cell_type": "code",
   "execution_count": null,
   "metadata": {},
   "outputs": [],
   "source": [
    "class Persona:\n",
    "    def __init__(self,rut,edad,sexo,comuna,num_viajes,distancia):\n",
    "        self.rut=rut\n",
    "        self.edad=edad\n",
    "        if sexo==1:\n",
    "            self.sexo=\"M\"\n",
    "        else:\n",
    "            self.sexo=\"F\"\n",
    "        self.comuna=comuna\n",
    "        self.num_viajes=num_viajes\n",
    "        self.distancia=distancia\n",
    "    def __str__(self):\n",
    "        return ('Rut:{},Edad:{},Sexo:{},Comuna{},N°Viajes:{},Distancia:{}'.format(self.rut,self.edad,self.sexo,self.comuna,self.num_viajes,self.distancia))\n",
    "\n",
    "def M8_funcion(c,comuna):\n",
    "    c.execute('''SELECT X.Persona, Y.Edad, X.Sexo, Z.Comuna, X.Viajes \n",
    "                FROM Personas X, EdadPersonas Y, Hogares Z \n",
    "                WHERE Z.Comuna=\"{}\" LIMIT 10'''.format(comuna))\n",
    "                #Obtenemos las personas que deseamos de la comuna\n",
    "    M8_r1=c.fetchone()\n",
    "    c.execute('''SELECT X.DistEuclidiana \n",
    "            FROM DistanciaViaje X, Viajes Y \n",
    "            WHERE Y.Persona={} LIMIT 10'''.format(M8_r1[0])) #Obtenemos la distancia de acuerdo a la respuesta de la  \n",
    "    M8_r2=c.fetchall()                                      #consulta anterior\n",
    "    suma_viaje=0\n",
    "    for e in M8_r2: #De acuerdo a la cantidad de personas buscamos los viajes y los sumamos\n",
    "        suma_viaje+=int(e[0])\n",
    "    personas=[]\n",
    "    personas.append(Persona(M8_r1[0],M8_r1[1],M8_r1[2],M8_r1[3],M8_r1[4],suma_viaje)) #Creamos\n",
    "    \n",
    "    return personas\n",
    "\n",
    "M8_response=M8_funcion(c,\"BUIN\")\n",
    "    "
   ]
  },
  {
   "cell_type": "markdown",
   "metadata": {},
   "source": [
    "# MISION 9"
   ]
  },
  {
   "cell_type": "code",
   "execution_count": null,
   "metadata": {},
   "outputs": [],
   "source": [
    "def M9_funcion(c,comuna,proposito):\n",
    "    c.execute('SELECT  X.Zona FROM Hogares X WHERE X.Comuna=\"{}\"'.format(comuna))\n",
    "    zonas=c.fetchone()\n",
    "    \n",
    "    c.execute('''SELECT Y.Viaje, Y.HoraIni \n",
    "            FROM Hogares X, Viajes Y, Etapas Z \n",
    "            WHERE X.Zona={} AND Y.HoraIni>\"6:00:00\" AND Y.HoraIni<\"9:00:00\" AND Z.Modo={} \n",
    "            LIMIT 10'''.format(zonas[0],proposito))\n",
    "    viajes=set()\n",
    "    for e in c.fetchall(): #Recorremos las respuestas y agregamos los viajes por ultimo los contamos\n",
    "        viajes.add(e)\n",
    "    num_viajes_ida=len(viajes)\n",
    "    viajes=set()\n",
    "    c.execute('''SELECT Y.Viaje, Y.HoraIni \n",
    "            FROM Hogares X, Viajes Y, Etapas Z \n",
    "            WHERE X.Zona={} AND Y.HoraIni>\"17:00:00\" AND Y.HoraIni<\"20:00:00\" AND Z.Modo={} \n",
    "            LIMIT 10'''.format(zonas[0],proposito))\n",
    "    for e in c.fetchall():#Exacatmente lo mismo que la ida\n",
    "        viajes.add(e)\n",
    "    num_viajes_vuelta=len(viajes)\n",
    "    return [comuna,num_viajes_ida,num_viajes_vuelta] #Devolvemos respuesta\n",
    "\n",
    "M9_response=M9_funcion(c,\"BUIN\",1)\n",
    "print(M9_response)"
   ]
  },
  {
   "cell_type": "markdown",
   "metadata": {},
   "source": [
    "# MISION 10"
   ]
  },
  {
   "cell_type": "code",
   "execution_count": null,
   "metadata": {},
   "outputs": [],
   "source": [
    "with open(\"Comuna.csv\",encoding=\"utf8\") as data: #Obtenermos las comunas\n",
    "    lista=[]\n",
    "    for e in data.readlines()[1:]:\n",
    "        x=e.strip().split(\",\")\n",
    "        lista.append(tuple(x))\n",
    "c.execute('CREATE TABLE Comunas(Codigo INTEGER,Nombre TEXT)') #Creamos tabla\n",
    "for e in lista:\n",
    "    c.execute('INSERT INTO Comunas(Codigo,Nombre) VALUES(\"{}\",\"{}\")'.format(e[0],e[1])) #Agregamos valores\n",
    "conn.commit()\n",
    "\n",
    "def M10_funcion(c):\n",
    "    c.execute('''SELECT count(X.Viaje) AS contador, Y.Nombre, Z.Nombre  \n",
    "    FROM Viajes X, Comunas Y,Comunas Z \n",
    "    WHERE X.ComunaOrigen!=X.ComunaDestino AND X.ComunaOrigen=Y.Codigo AND X.ComunaDestino=Z.Codigo \n",
    "    GROUP BY X.ComunaOrigen,X.ComunaDestino\n",
    "    ORDER BY contador DESC\n",
    "    LIMIT 10''') #Realizamos consulta pedida\n",
    "    return c.fetchall()\n",
    "M10_funcion(c)"
   ]
  },
  {
   "cell_type": "markdown",
   "metadata": {},
   "source": [
    "# MISION 11"
   ]
  },
  {
   "cell_type": "code",
   "execution_count": null,
   "metadata": {},
   "outputs": [],
   "source": [
    "def M11_funcion(c):\n",
    "    c.execute('''SELECT Z.Hogar, sum(X.DistEuclidiana) AS dist \n",
    "FROM DistanciaViaje X, ViajesDifusion Y, Hogares Z, Viajes W\n",
    "WHERE  Y.ModoDifusion=3 OR Y.ModoDifusion=5 OR Y.ModoDifusion=6 AND W.FactorLaboralNormal IS NOT NULL AND W.FactorLaboralEstival IS NOT NULL\n",
    "GROUP BY Z.Hogar\n",
    "ORDER BY  dist DESC\n",
    "LIMIT 10''')\n",
    "    #Buscamos los viajes de acuerdo a como fue el modo difusion. Si viajó con BIP consideramos que fue público\n",
    "    #O si el viaje se tilda como público\n",
    "    x=c.fetchall()\n",
    "    return x\n",
    "M11_funcion(c)"
   ]
  },
  {
   "cell_type": "code",
   "execution_count": null,
   "metadata": {},
   "outputs": [],
   "source": [
    "conn.close()"
   ]
  },
  {
   "cell_type": "code",
   "execution_count": null,
   "metadata": {},
   "outputs": [],
   "source": []
  }
 ],
 "metadata": {
  "kernelspec": {
   "display_name": "Python 3",
   "language": "python",
   "name": "python3"
  },
  "language_info": {
   "codemirror_mode": {
    "name": "ipython",
    "version": 3
   },
   "file_extension": ".py",
   "mimetype": "text/x-python",
   "name": "python",
   "nbconvert_exporter": "python",
   "pygments_lexer": "ipython3",
   "version": "3.6.8"
  }
 },
 "nbformat": 4,
 "nbformat_minor": 2
}
