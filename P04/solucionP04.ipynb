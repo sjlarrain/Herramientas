{
 "cells": [
  {
   "cell_type": "code",
   "execution_count": 3,
   "metadata": {},
   "outputs": [
    {
     "ename": "OperationalError",
     "evalue": "table Marcas already exists",
     "output_type": "error",
     "traceback": [
      "\u001b[1;31m---------------------------------------------------------------------------\u001b[0m",
      "\u001b[1;31mOperationalError\u001b[0m                          Traceback (most recent call last)",
      "\u001b[1;32m<ipython-input-3-d40536672c54>\u001b[0m in \u001b[0;36m<module>\u001b[1;34m\u001b[0m\n\u001b[0;32m      5\u001b[0m \u001b[1;33m\u001b[0m\u001b[0m\n\u001b[0;32m      6\u001b[0m \u001b[1;33m\u001b[0m\u001b[0m\n\u001b[1;32m----> 7\u001b[1;33m \u001b[0mcursor\u001b[0m\u001b[1;33m.\u001b[0m\u001b[0mexecute\u001b[0m\u001b[1;33m(\u001b[0m\u001b[1;34m'CREATE TABLE Marcas (id_marcas INTEGER,nombre TEXT,PRIMARY KEY (id_marcas))'\u001b[0m\u001b[1;33m)\u001b[0m\u001b[1;33m\u001b[0m\u001b[1;33m\u001b[0m\u001b[0m\n\u001b[0m\u001b[0;32m      8\u001b[0m \u001b[0mcursor\u001b[0m\u001b[1;33m.\u001b[0m\u001b[0mexecute\u001b[0m\u001b[1;33m(\u001b[0m\u001b[1;34m'CREATE TABLE Colores (id_colores INTEGER,nombre TEXT ,PRIMARY KEY (id_colores))'\u001b[0m\u001b[1;33m)\u001b[0m\u001b[1;33m\u001b[0m\u001b[1;33m\u001b[0m\u001b[0m\n\u001b[0;32m      9\u001b[0m \u001b[0mcursor\u001b[0m\u001b[1;33m.\u001b[0m\u001b[0mexecute\u001b[0m\u001b[1;33m(\u001b[0m\u001b[1;34m'CREATE TABLE Autos (patente TEXT,id_marcas,id_colores,velocidad INTEGER,capacidad INTEGER,PRIMARY KEY (patente),FOREIGN KEY (id_marcas) REFERENCES Marcas, FOREIGN KEY (id_colores) REFERENCES Colores)'\u001b[0m\u001b[1;33m)\u001b[0m\u001b[1;33m\u001b[0m\u001b[1;33m\u001b[0m\u001b[0m\n",
      "\u001b[1;31mOperationalError\u001b[0m: table Marcas already exists"
     ]
    }
   ],
   "source": [
    "import sqlite3\n",
    "\n",
    "connection=sqlite3.connect('p04.db')\n",
    "cursor=connection.cursor()\n",
    "\n",
    "\n",
    "cursor.execute('CREATE TABLE Marcas (id_marcas INTEGER,nombre TEXT,PRIMARY KEY (id_marcas))')\n",
    "cursor.execute('CREATE TABLE Colores (id_colores INTEGER,nombre TEXT ,PRIMARY KEY (id_colores))')\n",
    "cursor.execute('CREATE TABLE Autos (patente TEXT,id_marcas,id_colores,velocidad INTEGER,capacidad INTEGER,PRIMARY KEY (patente),FOREIGN KEY (id_marcas) REFERENCES Marcas, FOREIGN KEY (id_colores) REFERENCES Colores)')\n",
    "\n",
    "cursor.execute('INSERT INTO Colores  VALUES (001,\"Amarillo\")')\n",
    "cursor.execute('INSERT INTO Colores  VALUES (002,\"Verde\")')\n",
    "cursor.execute('INSERT INTO Colores  VALUES (003,\"Rojo\")')\n",
    "\n",
    "cursor.execute('INSERT INTO Marcas  VALUES (001,\"Toyota\")')\n",
    "cursor.execute('INSERT INTO Marcas  VALUES (002,\"Honda\")')\n",
    "cursor.execute('INSERT INTO Marcas  VALUES (003,\"Pegueot\")')\n",
    "\n",
    "cursor.execute('INSERT INTO Autos  VALUES (\"ABC123\",001,001,100,5)')\n",
    "cursor.execute('INSERT INTO Autos  VALUES (\"DEF123\",002,001,120,6)')\n",
    "cursor.execute('INSERT INTO Autos  VALUES (\"HIJ123\",003,002,150,4)')\n",
    "cursor.execute('INSERT INTO Autos  VALUES (\"ABC321\",001,002,130,5)')\n",
    "cursor.execute('INSERT INTO Autos  VALUES (\"DEF321\",002,003,125,6)')\n",
    "cursor.execute('INSERT INTO Autos  VALUES (\"HIJ321\",003,003,140,4)')\n",
    " \n",
    "cursor.execute('SELECT DISTINCT A.patente FROM Autos A WHERE A.id_colores=001')\n",
    "consulta1=cursor.fetchall()\n",
    "cursor.execute('SELECT DISTINCT A.patente FROM Autos A WHERE A.velocidad%2=0')\n",
    "consulta2=cursor.fetchall()\n",
    "cursor.execute('SELECT DISTINCT A.patente FROM Autos A WHERE A.capacidad>A.velocidad/10')\n",
    "\n",
    "consulta3=cursor.fetchall()\n",
    "#connection.execute('SELECT DISTINCT A.patente FROM Autos A WHERE A.velocidad%2=0')\n",
    "\n",
    "print(consulta1)\n",
    "print(consulta2)\n",
    "print(consulta3)\n",
    "\n",
    "connection.commit()"
   ]
  },
  {
   "cell_type": "code",
   "execution_count": 4,
   "metadata": {},
   "outputs": [
    {
     "name": "stdout",
     "output_type": "stream",
     "text": [
      "[(0, 'id_marcas', 'INTEGER', 0, None, 1), (1, 'nombre', 'TEXT', 0, None, 0)]\n",
      "[(0, 'id_colores', 'INTEGER', 0, None, 1), (1, 'nombre', 'TEXT', 0, None, 0)]\n",
      "[(0, 'patente', 'TEXT', 0, None, 1), (1, 'id_marcas', '', 0, None, 0), (2, 'id_colores', '', 0, None, 0), (3, 'velocidad', 'INTEGER', 0, None, 0), (4, 'capacidad', 'INTEGER', 0, None, 0)]\n"
     ]
    }
   ],
   "source": [
    "tablas=['Marcas','Colores','Autos']\n",
    "for e in tablas:\n",
    "    cursor.execute('PRAGMA table_info([{}])'.format(e))\n",
    "    x=cursor.fetchall()\n",
    "    print(x)"
   ]
  },
  {
   "cell_type": "code",
   "execution_count": null,
   "metadata": {},
   "outputs": [],
   "source": []
  }
 ],
 "metadata": {
  "kernelspec": {
   "display_name": "Python 3",
   "language": "python",
   "name": "python3"
  },
  "language_info": {
   "codemirror_mode": {
    "name": "ipython",
    "version": 3
   },
   "file_extension": ".py",
   "mimetype": "text/x-python",
   "name": "python",
   "nbconvert_exporter": "python",
   "pygments_lexer": "ipython3",
   "version": "3.6.8"
  }
 },
 "nbformat": 4,
 "nbformat_minor": 2
}
