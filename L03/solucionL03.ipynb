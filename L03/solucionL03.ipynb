{
 "cells": [
  {
   "cell_type": "code",
   "execution_count": 3,
   "metadata": {},
   "outputs": [
    {
     "name": "stdout",
     "output_type": "stream",
     "text": [
      "Wall time: 9.45 s\n"
     ]
    }
   ],
   "source": [
    "%%time\n",
    "import random\n",
    "lista_fake=[]\n",
    "for i in range(1000000):\n",
    "    x=random.randint(0,4000000)*random.choice([-1,1])\n",
    "    lista_fake.append(x)\n"
   ]
  },
  {
   "cell_type": "markdown",
   "metadata": {},
   "source": [
    "# Pregunta I A y B"
   ]
  },
  {
   "cell_type": "code",
   "execution_count": 1,
   "metadata": {},
   "outputs": [
    {
     "ename": "ModuleNotFoundError",
     "evalue": "No module named 'l03'",
     "output_type": "error",
     "traceback": [
      "\u001b[1;31m---------------------------------------------------------------------------\u001b[0m",
      "\u001b[1;31mModuleNotFoundError\u001b[0m                       Traceback (most recent call last)",
      "\u001b[1;32m<ipython-input-1-a8b712b75648>\u001b[0m in \u001b[0;36m<module>\u001b[1;34m\u001b[0m\n\u001b[1;32m----> 1\u001b[1;33m \u001b[1;32mfrom\u001b[0m \u001b[0ml03\u001b[0m \u001b[1;32mimport\u001b[0m \u001b[0mgraficar\u001b[0m\u001b[1;33m\u001b[0m\u001b[1;33m\u001b[0m\u001b[0m\n\u001b[0m\u001b[0;32m      2\u001b[0m \u001b[1;32mimport\u001b[0m \u001b[0mtime\u001b[0m\u001b[1;33m\u001b[0m\u001b[1;33m\u001b[0m\u001b[0m\n\u001b[0;32m      3\u001b[0m \u001b[1;32mfrom\u001b[0m \u001b[0mitertools\u001b[0m \u001b[1;32mimport\u001b[0m \u001b[0mchain\u001b[0m\u001b[1;33m\u001b[0m\u001b[1;33m\u001b[0m\u001b[0m\n\u001b[0;32m      4\u001b[0m \u001b[1;32mdef\u001b[0m \u001b[0mproblema_1a\u001b[0m\u001b[1;33m(\u001b[0m\u001b[0mlista\u001b[0m\u001b[1;33m)\u001b[0m\u001b[1;33m:\u001b[0m\u001b[1;33m\u001b[0m\u001b[1;33m\u001b[0m\u001b[0m\n\u001b[0;32m      5\u001b[0m     \u001b[0msol\u001b[0m\u001b[1;33m=\u001b[0m\u001b[1;33m[\u001b[0m\u001b[1;33m]\u001b[0m\u001b[1;33m\u001b[0m\u001b[1;33m\u001b[0m\u001b[0m\n",
      "\u001b[1;31mModuleNotFoundError\u001b[0m: No module named 'l03'"
     ]
    }
   ],
   "source": [
    "from l03 import graficar\n",
    "import time\n",
    "from itertools import chain\n",
    "def problema_1a(lista):\n",
    "    sol=[]\n",
    "    for j in range(len(lista)):  #Se crea una lista vacia para poner los jueces\n",
    "        l_left=lista[:j]\n",
    "        l_right=lista[j+1:]\n",
    "        ll=0\n",
    "        lr=0\n",
    "        for e in l_left:    #Se suman las listas para poder igualarlas posteriormente\n",
    "            ll+=e\n",
    "        for e in l_right:\n",
    "            lr+=e\n",
    "        if ll==lr:\n",
    "            sol.append(j)    #Si la solucion esta, se suma\n",
    "    return sol\n",
    "            \n",
    "            \n",
    "'''Esta sería de notación n^2'''  \n",
    "\n",
    "def problema_1b(lista):\n",
    "    sol=[]               \n",
    "    left=0\n",
    "    lt=sum(lista)  #Se agrega left y la suma de la lista en general\n",
    "    for i in range(len(lista)):\n",
    "        juez=lista.pop(0)  #Se saca el juez\n",
    "        lt-=juez #Se resta al juez de la suma anterior de la listas\n",
    "        if left==lt:\n",
    "            sol.append(i) #Se agrega si es equivalente\n",
    "        left+=juez #Se agrega aal juez a la siguiente lista para continuar\n",
    "        \n",
    "    return sol\n",
    "\n",
    "'''Esta sería de notacion n'''\n",
    "\n",
    "def graf_a(lt,mult,nombre):\n",
    "    datos=[]  \n",
    "    tiempos=[]\n",
    "    for e in range(1,mult,10):  #Se recorre una lista y se multiplica esa lista para mas datos  \n",
    "        lt1=[lt]*e\n",
    "        lt1=list(chain(*lt1))  #Se encadena para tener solo una lista\n",
    "        start=time.time()\n",
    "        funx=problema_1a(lt1)     \n",
    "        end=time.time()\n",
    "        tt=end-start\n",
    "        datos.append(len(lt1)) #Se agrega la cantidad de datos\n",
    "        tiempos.append(tt)     #Se agrega el tiempo\n",
    "    graficar(datos,tiempos,nombre,\"Q datos\",\"tiempo\")  #Se grafica los resultados\n",
    "\n",
    "def graf_b(lt,mult,nombre):  #Exactamente la otra funcion\n",
    "    datos=[]\n",
    "    tiempos=[]\n",
    "    for e in range(1,mult,10):\n",
    "        lt1=[lt]*e\n",
    "        lt1=list(chain(*lt1))\n",
    "        x=len(lt1)\n",
    "        start=time.time()\n",
    "        funx=problema_1b(lt1)\n",
    "        end=time.time()\n",
    "        tt=end-start\n",
    "        datos.append(x)\n",
    "        tiempos.append(tt)\n",
    "    graficar(datos,tiempos,nombre,\"Q datos\",\"tiempo\")    "
   ]
  },
  {
   "cell_type": "markdown",
   "metadata": {},
   "source": [
    "## Input A"
   ]
  },
  {
   "cell_type": "code",
   "execution_count": null,
   "metadata": {},
   "outputs": [],
   "source": [
    "%%time\n",
    "lista=[0,-4,6,-4,-3,3,2,0]\n",
    "print(problema_1a(lista))\n",
    "graf_a(lista,500,\"Problema_1a\")\n",
    "\n"
   ]
  },
  {
   "cell_type": "markdown",
   "metadata": {},
   "source": [
    "## Input B"
   ]
  },
  {
   "cell_type": "code",
   "execution_count": null,
   "metadata": {},
   "outputs": [],
   "source": [
    "%%time\n",
    "lista=[0,-4,6,-4,-3,3,2,0]\n",
    "print(problema_1b(lista))\n",
    "lista1=[0,-4,6,-4,-3,3,2,0]\n",
    "graf_b(lista1,500,\"Problema_1b\")\n"
   ]
  },
  {
   "cell_type": "markdown",
   "metadata": {},
   "source": [
    "# Pregunta 2"
   ]
  },
  {
   "cell_type": "code",
   "execution_count": 2,
   "metadata": {},
   "outputs": [],
   "source": [
    "def problema_2(lista):\n",
    "    min1=min(lista) # Primer minimo\n",
    "    lista.pop(lista.index(min1)) #Lo saca\n",
    "    min2=min(lista)#Segundo minimo\n",
    "    lista.pop(lista.index(min2)) #Idem\n",
    "    min3=min(lista)#Tercero minimo y no se quita por que no es necesario\n",
    "    max1=max(lista)# Lo mismo con los dos primeros maximos\n",
    "    lista.pop(lista.index(max1))\n",
    "    max2=max(lista)\n",
    "    resul1=[[min1,min2,min3],[min1,min2,max1],[min1,max1,max2],[min1,min2,max1]] #Lista con las combinaciones para entregar\n",
    "    #posteiormente los factores\n",
    "    resul=[min1*min2*min3,min1*min2*max1,min1*max1*max2,min1*min2*max1] #Multiplicaciones posibles\n",
    "    nums=resul.index(min(resul))#Nota el menor resultado\n",
    "    return resul1[nums]   #devuelve el menor resultado"
   ]
  },
  {
   "cell_type": "markdown",
   "metadata": {},
   "source": [
    "## Input 2"
   ]
  },
  {
   "cell_type": "code",
   "execution_count": 4,
   "metadata": {},
   "outputs": [
    {
     "name": "stdout",
     "output_type": "stream",
     "text": [
      "Wall time: 491 ms\n"
     ]
    },
    {
     "data": {
      "text/plain": [
       "[-3999999, -3999990, -3999985]"
      ]
     },
     "execution_count": 4,
     "metadata": {},
     "output_type": "execute_result"
    }
   ],
   "source": [
    "%%time\n",
    "problema_2(lista_fake)"
   ]
  },
  {
   "cell_type": "markdown",
   "metadata": {},
   "source": [
    "# Pregunta 3"
   ]
  },
  {
   "cell_type": "code",
   "execution_count": null,
   "metadata": {},
   "outputs": [],
   "source": [
    "def verificador(palabra):#Funcion para dar vuelta la palabra y analizar si es palidromo\n",
    "        t=\"\"\n",
    "        for e in palabra:\n",
    "            t=e+t\n",
    "        if palabra==t:\n",
    "            return True\n",
    "        return False\n",
    "\n",
    "def finder(palabra): #Busca recursivamente los palidromos y al encontrarlos los adjunta a una lista global\n",
    "    for i in range(2,len(palabra)-1):\n",
    "        if verificador(palabra[i+1:]):\n",
    "            x=palabra[i+1:]\n",
    "            palab=palabra[:i+1]\n",
    "            finder(palab)\n",
    "            return outder.append(x)\n",
    "            \n",
    "\n",
    "def problema_3b(palabra): #Crea la lista global y luego busca recursivamente toda las palabras\n",
    "    global outder\n",
    "    outder=[]\n",
    "    finder(palabra)\n",
    "    return len(outder)#Entrega el largo de la lista\n",
    "        \n",
    "        "
   ]
  },
  {
   "cell_type": "markdown",
   "metadata": {},
   "source": [
    "## Input 3"
   ]
  },
  {
   "cell_type": "code",
   "execution_count": null,
   "metadata": {},
   "outputs": [],
   "source": [
    "%%time\n",
    "palabra= 'PAPAPEPADEDXAXPEPEPDAD'\n",
    "print(problema_3b(palabra))"
   ]
  },
  {
   "cell_type": "markdown",
   "metadata": {},
   "source": [
    "# Pregunta 4"
   ]
  },
  {
   "cell_type": "code",
   "execution_count": null,
   "metadata": {},
   "outputs": [],
   "source": [
    "from copy import deepcopy as dc\n",
    "def verificador(pal1,pal2): #Verefica que tengan todas las letras menos una. Lo contrario entrega un False\n",
    "    j=0\n",
    "    for i in range(len(pal1)):\n",
    "        if pal1[i]==pal2[i]:\n",
    "            continue\n",
    "        if j==1:\n",
    "            return False\n",
    "        j+=1\n",
    "    return True\n",
    "\n",
    "def arbol(lista):#Crea un arbol con los cambios de las islas y luego al encontrar los cambios                \n",
    "    islas=dict()#Los traspasa a un diccionario y lo retorna cuando tenga todas las combinaciones\n",
    "    for e in lista:\n",
    "        if e not in islas.keys():\n",
    "            puentes=[]\n",
    "            for f in lista:\n",
    "                if e!=f and verificador(e,f):\n",
    "                    puentes.append(f)\n",
    "            islas.update({e:puentes})\n",
    "    return islas\n",
    "\n",
    "def solver(tree,inicio,fin,camino=[]): #Busca a traves de un Backtracking todos los caminos \n",
    "    if inicio==fin:\n",
    "        p=dc(camino)\n",
    "        ln=len(camino)\n",
    "        solution.append(p)\n",
    "    else:\n",
    "        saltos=tree[inicio] #Inicia con la lista, si tiene posibilidad de avzar busca las posiblees opciones\n",
    "        if len(saltos)>0:\n",
    "            for e in saltos:\n",
    "                c=dc(camino)\n",
    "                if e not in c: #Si no ha visitado la lista toavia y es posible, la visita\n",
    "                    c.append(e) #La agrega al camino\n",
    "                    solver(tree,e,fin,c) #Busca nuevamente si no a llegado al fin\n",
    "    \n",
    "            \n",
    "def problema_4(lista,inicio,fin): #Crea el arbol y la lista global para ir agregando los caminos posibles\n",
    "    tree=arbol(lista)\n",
    "    global solution\n",
    "    solution=[]\n",
    "    solver(tree,inicio,fin,[inicio])\n",
    "    ln=100\n",
    "    for e in solution:  #Retorna solo los caminos mas cortos\n",
    "        if len(e)<ln:\n",
    "            ln=len(e)\n",
    "            exit=[e]\n",
    "        elif len(e)==ln and e not in exit:\n",
    "            exit.append(e)\n",
    "    return exit\n",
    "    "
   ]
  },
  {
   "cell_type": "markdown",
   "metadata": {},
   "source": [
    "## Input 4"
   ]
  },
  {
   "cell_type": "code",
   "execution_count": null,
   "metadata": {},
   "outputs": [],
   "source": [
    "%%time\n",
    "lista_problema_4=[\"mau\",\"mhu\", \"phu\", \"mai\", \"phe\", \"zai\", \"kae\", \"pai\", \"rho\", \"phi\"]\n",
    "problema_4(lista_problema_4,\"mau\",\"phi\")\n"
   ]
  },
  {
   "cell_type": "markdown",
   "metadata": {},
   "source": [
    "# Pregunta 5"
   ]
  },
  {
   "cell_type": "code",
   "execution_count": null,
   "metadata": {},
   "outputs": [],
   "source": [
    "from copy import deepcopy as dc\n",
    "class Punto:        #Creamos la clase punto donde tendra los valores de su posicion,valor y sus dos posibles vecinos\n",
    "    def __init__(self,pos,valor):\n",
    "        self.nombre=pos\n",
    "        self.valor=valor\n",
    "        self.sur=None\n",
    "        self.este=None\n",
    "    def add_sur(self,vecino):  #Agrega solo vecino si es que cumple las condiciones\n",
    "        if (abs(self.valor-vecino.valor))<=1:\n",
    "            self.sur=vecino\n",
    "    def add_este(self,vecino):#Idem\n",
    "        if (abs(self.valor-vecino.valor))<=1:\n",
    "            self.este=vecino\n",
    "    def __str__(self):\n",
    "        return '[nombre{} valor:{} sur:{} este:{}]'.format(self.nombre,self.valor,self.sur,self.este)\n",
    "\n",
    "def mapear(matriz):  #Crea un grafo con todo los objetos y sus vecinos si es que existen. \n",
    "    places=dict()  #Se van agregando al diccionario\n",
    "    for row in range(len(matriz)):\n",
    "        for col in range(len(matriz[0])):  #Recorremos la matriz\n",
    "            dot=Punto((row,col),matriz[row][col])\n",
    "            if (row,col) not in places.keys():\n",
    "                places.update({(row,col):dot})\n",
    "            if row+1<len(matriz):    #Si esta dentro de los limites lo busca y agrega\n",
    "                if (row+1,col) not in places.keys():\n",
    "                    este=Punto((row+1,col),matriz[row+1][col])\n",
    "                    places.update({(row+1,col):este})\n",
    "                else:\n",
    "                    este=places[(row+1,col)]#Lo define como el este\n",
    "            else:\n",
    "                este=None\n",
    "            if este!=None:\n",
    "                places[(row,col)].add_este(este) #Si el este existe lo agrega al objeto\n",
    "            if col+1<len(matriz[0]): #Lo mismo con las columnas y lo agrega al final\n",
    "                if (row,col+1) not in places.keys():\n",
    "                    sur=Punto((row,col+1),matriz[row][col+1])\n",
    "                    places.update({(row,col+1):sur})\n",
    "                else:\n",
    "                    sur=places[(row,col+1)]\n",
    "            else:\n",
    "                sur=None    \n",
    "            if sur!=None:\n",
    "                places[(row,col)].add_sur(sur)\n",
    "    return places\n",
    "    \n",
    "\n",
    "def continuar(objeto,camino=[]):#Toma el objeto y lo busca recursivamente avanzando entre sus atributos\n",
    "    e=dc(camino)\n",
    "    s=dc(camino)\n",
    "    if objeto.este!=None: #Como sabemos pueden tener mas de un camino\n",
    "        e.append(objeto.valor)\n",
    "        continuar(objeto.este,e)\n",
    "    if objeto.sur!=None:\n",
    "        s.append(objeto.valor)\n",
    "        continuar(objeto.sur,s)\n",
    "    resultados.append(e)#Al no poder avanzar en ninguno de los caminos agrega los caminos ya encontrados\n",
    "    resultados.append(s)\n",
    "    \n",
    "def problema_5(matriz):\n",
    "    global resultados\n",
    "    resultados=[]\n",
    "    sujetos=mapear(matriz)#Crea el diccionario y las listas globales exigidas\n",
    "    for e in sujetos.values(): #Busca los caminos para cada objeto que le dimos\n",
    "        continuar(e)\n",
    "    ln=0\n",
    "    exit=[]\n",
    "    for e in resultados: #Devuelve solo las listas mas largas\n",
    "        if len(e)>ln:\n",
    "            ln=len(e)\n",
    "            exit=[e]\n",
    "        elif len(e)==ln and e not in exit:\n",
    "            exit.append(e)\n",
    "    return exit"
   ]
  },
  {
   "cell_type": "markdown",
   "metadata": {},
   "source": [
    "## Input 5"
   ]
  },
  {
   "cell_type": "code",
   "execution_count": null,
   "metadata": {},
   "outputs": [],
   "source": [
    "%%time\n",
    "lista_5=[[8, 6, 3, 4, 2],\n",
    "         [4, 5, 2, 5, 5],\n",
    "         [2, 6, 7, 8, 9],\n",
    "         [4, 5, 6, 9, 10],\n",
    "         [4, 3, 3, 8, 7]]\n",
    "problema_5(lista_5)\n",
    "\n"
   ]
  }
 ],
 "metadata": {
  "kernelspec": {
   "display_name": "Python 3",
   "language": "python",
   "name": "python3"
  },
  "language_info": {
   "codemirror_mode": {
    "name": "ipython",
    "version": 3
   },
   "file_extension": ".py",
   "mimetype": "text/x-python",
   "name": "python",
   "nbconvert_exporter": "python",
   "pygments_lexer": "ipython3",
   "version": "3.6.8"
  }
 },
 "nbformat": 4,
 "nbformat_minor": 2
}
