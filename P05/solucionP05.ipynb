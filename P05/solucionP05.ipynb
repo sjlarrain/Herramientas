{
  "nbformat": 4,
  "nbformat_minor": 0,
  "metadata": {
    "colab": {
      "name": "solucionP05",
      "provenance": []
    },
    "kernelspec": {
      "name": "python3",
      "display_name": "Python 3"
    }
  },
  "cells": [
    {
      "cell_type": "code",
      "metadata": {
        "id": "TPi9NED1-VDR",
        "colab_type": "code",
        "outputId": "33073f26-2d60-4389-85b4-47193a4d276c",
        "colab": {
          "base_uri": "https://localhost:8080/",
          "height": 292
        }
      },
      "source": [
        "!pip install geopandas\n",
        "!pip install utm"
      ],
      "execution_count": 1,
      "outputs": [
        {
          "output_type": "stream",
          "text": [
            "Requirement already satisfied: geopandas in /usr/local/lib/python3.6/dist-packages (0.6.2)\n",
            "Requirement already satisfied: pandas>=0.23.0 in /usr/local/lib/python3.6/dist-packages (from geopandas) (0.25.3)\n",
            "Requirement already satisfied: fiona in /usr/local/lib/python3.6/dist-packages (from geopandas) (1.8.13)\n",
            "Requirement already satisfied: shapely in /usr/local/lib/python3.6/dist-packages (from geopandas) (1.6.4.post2)\n",
            "Requirement already satisfied: pyproj in /usr/local/lib/python3.6/dist-packages (from geopandas) (2.4.2.post1)\n",
            "Requirement already satisfied: pytz>=2017.2 in /usr/local/lib/python3.6/dist-packages (from pandas>=0.23.0->geopandas) (2018.9)\n",
            "Requirement already satisfied: python-dateutil>=2.6.1 in /usr/local/lib/python3.6/dist-packages (from pandas>=0.23.0->geopandas) (2.6.1)\n",
            "Requirement already satisfied: numpy>=1.13.3 in /usr/local/lib/python3.6/dist-packages (from pandas>=0.23.0->geopandas) (1.17.4)\n",
            "Requirement already satisfied: click-plugins>=1.0 in /usr/local/lib/python3.6/dist-packages (from fiona->geopandas) (1.1.1)\n",
            "Requirement already satisfied: munch in /usr/local/lib/python3.6/dist-packages (from fiona->geopandas) (2.5.0)\n",
            "Requirement already satisfied: cligj>=0.5 in /usr/local/lib/python3.6/dist-packages (from fiona->geopandas) (0.5.0)\n",
            "Requirement already satisfied: attrs>=17 in /usr/local/lib/python3.6/dist-packages (from fiona->geopandas) (19.3.0)\n",
            "Requirement already satisfied: six>=1.7 in /usr/local/lib/python3.6/dist-packages (from fiona->geopandas) (1.12.0)\n",
            "Requirement already satisfied: click<8,>=4.0 in /usr/local/lib/python3.6/dist-packages (from fiona->geopandas) (7.0)\n",
            "Requirement already satisfied: utm in /usr/local/lib/python3.6/dist-packages (0.5.0)\n"
          ],
          "name": "stdout"
        }
      ]
    },
    {
      "cell_type": "code",
      "metadata": {
        "id": "Te0ywgF6-x4c",
        "colab_type": "code",
        "colab": {}
      },
      "source": [
        "import geopandas as gpd\n",
        "import pandas as pd\n",
        "import matplotlib.pyplot as plt"
      ],
      "execution_count": 0,
      "outputs": []
    },
    {
      "cell_type": "code",
      "metadata": {
        "id": "CVZk1zHIAEoa",
        "colab_type": "code",
        "outputId": "7c913ca9-8532-44d9-8e95-a82f80861d6f",
        "colab": {
          "base_uri": "https://localhost:8080/",
          "height": 204
        }
      },
      "source": [
        "data={'Id':[0,1,2,3,4]}\n",
        "data.update({'Nombre':['Farmacias Ahumada','Farmacia Cruz Verde','Farmacia Cruz Verde','Farmacia Homeopatica','Farmacia Salcobrand']})\n",
        "data.update({'Numeracion':[ 6345,6459,6602,7785,8111]})\n",
        "data.update({'Calle':['Av Vitacura','Av Vitacura','Av Vitacura','Av Vitacura','Av Vitacura',]})\n",
        "data.update({'Comuna':['Vitacura','Vitacura','Vitacura','Vitacura','Vitacura']})\n",
        "data.update({'Apertura':['8:30','10:00','0:00',None,'8:00']})\n",
        "data.update({'Cierre':['0:00','21:00','23:30',None,'21:00']})\n",
        "data.update({'Coord':[(-33.390038,-70.57308),(-33.389525,-70.569327),(-33.388813,-70.568401),(-33.385862,-70.559234),(-33.385445,-70.555948)]})\n",
        "farmacias=pd.DataFrame(data)\n",
        "farmacias.head()"
      ],
      "execution_count": 3,
      "outputs": [
        {
          "output_type": "execute_result",
          "data": {
            "text/html": [
              "<div>\n",
              "<style scoped>\n",
              "    .dataframe tbody tr th:only-of-type {\n",
              "        vertical-align: middle;\n",
              "    }\n",
              "\n",
              "    .dataframe tbody tr th {\n",
              "        vertical-align: top;\n",
              "    }\n",
              "\n",
              "    .dataframe thead th {\n",
              "        text-align: right;\n",
              "    }\n",
              "</style>\n",
              "<table border=\"1\" class=\"dataframe\">\n",
              "  <thead>\n",
              "    <tr style=\"text-align: right;\">\n",
              "      <th></th>\n",
              "      <th>Id</th>\n",
              "      <th>Nombre</th>\n",
              "      <th>Numeracion</th>\n",
              "      <th>Calle</th>\n",
              "      <th>Comuna</th>\n",
              "      <th>Apertura</th>\n",
              "      <th>Cierre</th>\n",
              "      <th>Coord</th>\n",
              "    </tr>\n",
              "  </thead>\n",
              "  <tbody>\n",
              "    <tr>\n",
              "      <th>0</th>\n",
              "      <td>0</td>\n",
              "      <td>Farmacias Ahumada</td>\n",
              "      <td>6345</td>\n",
              "      <td>Av Vitacura</td>\n",
              "      <td>Vitacura</td>\n",
              "      <td>8:30</td>\n",
              "      <td>0:00</td>\n",
              "      <td>(-33.390038, -70.57308)</td>\n",
              "    </tr>\n",
              "    <tr>\n",
              "      <th>1</th>\n",
              "      <td>1</td>\n",
              "      <td>Farmacia Cruz Verde</td>\n",
              "      <td>6459</td>\n",
              "      <td>Av Vitacura</td>\n",
              "      <td>Vitacura</td>\n",
              "      <td>10:00</td>\n",
              "      <td>21:00</td>\n",
              "      <td>(-33.389525, -70.569327)</td>\n",
              "    </tr>\n",
              "    <tr>\n",
              "      <th>2</th>\n",
              "      <td>2</td>\n",
              "      <td>Farmacia Cruz Verde</td>\n",
              "      <td>6602</td>\n",
              "      <td>Av Vitacura</td>\n",
              "      <td>Vitacura</td>\n",
              "      <td>0:00</td>\n",
              "      <td>23:30</td>\n",
              "      <td>(-33.388813, -70.568401)</td>\n",
              "    </tr>\n",
              "    <tr>\n",
              "      <th>3</th>\n",
              "      <td>3</td>\n",
              "      <td>Farmacia Homeopatica</td>\n",
              "      <td>7785</td>\n",
              "      <td>Av Vitacura</td>\n",
              "      <td>Vitacura</td>\n",
              "      <td>None</td>\n",
              "      <td>None</td>\n",
              "      <td>(-33.385862, -70.559234)</td>\n",
              "    </tr>\n",
              "    <tr>\n",
              "      <th>4</th>\n",
              "      <td>4</td>\n",
              "      <td>Farmacia Salcobrand</td>\n",
              "      <td>8111</td>\n",
              "      <td>Av Vitacura</td>\n",
              "      <td>Vitacura</td>\n",
              "      <td>8:00</td>\n",
              "      <td>21:00</td>\n",
              "      <td>(-33.385445, -70.555948)</td>\n",
              "    </tr>\n",
              "  </tbody>\n",
              "</table>\n",
              "</div>"
            ],
            "text/plain": [
              "   Id                Nombre  ...  Cierre                     Coord\n",
              "0   0     Farmacias Ahumada  ...    0:00   (-33.390038, -70.57308)\n",
              "1   1   Farmacia Cruz Verde  ...   21:00  (-33.389525, -70.569327)\n",
              "2   2   Farmacia Cruz Verde  ...   23:30  (-33.388813, -70.568401)\n",
              "3   3  Farmacia Homeopatica  ...    None  (-33.385862, -70.559234)\n",
              "4   4   Farmacia Salcobrand  ...   21:00  (-33.385445, -70.555948)\n",
              "\n",
              "[5 rows x 8 columns]"
            ]
          },
          "metadata": {
            "tags": []
          },
          "execution_count": 3
        }
      ]
    },
    {
      "cell_type": "code",
      "metadata": {
        "id": "rWVd9Ws5JGFN",
        "colab_type": "code",
        "outputId": "6a61f1bf-a186-4095-cc37-ae0941f0f977",
        "colab": {
          "base_uri": "https://localhost:8080/",
          "height": 359
        }
      },
      "source": [
        "data=dict()\n",
        "data.update({'Nombre':['BETINA 24 MG X 30 COMPRIMIDOS', 'VONTROL 30 COMPRIMIDOS', 'CARDIOASPIRINA 100 MG X50 COMPRIMIDOS', 'BISOPRIL 1,25 MG', 'LEODRIN PLUS 5600', 'SULIX 04 MG X 100 CAPSULAS', 'CILOKARE 25 MG', 'ECTIEN XR 150 MG', 'CARVEDILOL 12,5 MG', 'VASTAREL MR', 'SIAFIL 100 MG X 6 COMPRIMIDOS' ,'TRAMADOL GOTAS (GENFAR)', 'ARRUMAL 30 MG']})\n",
        "data.update({'Precios':[11.900,8.900,6.550,3.970,22.840,2.300,3.200,23.690,1.070,12.590,1.600,390,29.240]})\n",
        "data.update({'Farmacias':['1-2','1-3','2-3-4','0-4','1-4','1-3-4','0','2','3-4','1-2-4','0-1','2-4','2-3']})\n",
        "remedios=pd.DataFrame(data)\n",
        "remedios.head(10)\n"
      ],
      "execution_count": 4,
      "outputs": [
        {
          "output_type": "execute_result",
          "data": {
            "text/html": [
              "<div>\n",
              "<style scoped>\n",
              "    .dataframe tbody tr th:only-of-type {\n",
              "        vertical-align: middle;\n",
              "    }\n",
              "\n",
              "    .dataframe tbody tr th {\n",
              "        vertical-align: top;\n",
              "    }\n",
              "\n",
              "    .dataframe thead th {\n",
              "        text-align: right;\n",
              "    }\n",
              "</style>\n",
              "<table border=\"1\" class=\"dataframe\">\n",
              "  <thead>\n",
              "    <tr style=\"text-align: right;\">\n",
              "      <th></th>\n",
              "      <th>Nombre</th>\n",
              "      <th>Precios</th>\n",
              "      <th>Farmacias</th>\n",
              "    </tr>\n",
              "  </thead>\n",
              "  <tbody>\n",
              "    <tr>\n",
              "      <th>0</th>\n",
              "      <td>BETINA 24 MG X 30 COMPRIMIDOS</td>\n",
              "      <td>11.90</td>\n",
              "      <td>1-2</td>\n",
              "    </tr>\n",
              "    <tr>\n",
              "      <th>1</th>\n",
              "      <td>VONTROL 30 COMPRIMIDOS</td>\n",
              "      <td>8.90</td>\n",
              "      <td>1-3</td>\n",
              "    </tr>\n",
              "    <tr>\n",
              "      <th>2</th>\n",
              "      <td>CARDIOASPIRINA 100 MG X50 COMPRIMIDOS</td>\n",
              "      <td>6.55</td>\n",
              "      <td>2-3-4</td>\n",
              "    </tr>\n",
              "    <tr>\n",
              "      <th>3</th>\n",
              "      <td>BISOPRIL 1,25 MG</td>\n",
              "      <td>3.97</td>\n",
              "      <td>0-4</td>\n",
              "    </tr>\n",
              "    <tr>\n",
              "      <th>4</th>\n",
              "      <td>LEODRIN PLUS 5600</td>\n",
              "      <td>22.84</td>\n",
              "      <td>1-4</td>\n",
              "    </tr>\n",
              "    <tr>\n",
              "      <th>5</th>\n",
              "      <td>SULIX 04 MG X 100 CAPSULAS</td>\n",
              "      <td>2.30</td>\n",
              "      <td>1-3-4</td>\n",
              "    </tr>\n",
              "    <tr>\n",
              "      <th>6</th>\n",
              "      <td>CILOKARE 25 MG</td>\n",
              "      <td>3.20</td>\n",
              "      <td>0</td>\n",
              "    </tr>\n",
              "    <tr>\n",
              "      <th>7</th>\n",
              "      <td>ECTIEN XR 150 MG</td>\n",
              "      <td>23.69</td>\n",
              "      <td>2</td>\n",
              "    </tr>\n",
              "    <tr>\n",
              "      <th>8</th>\n",
              "      <td>CARVEDILOL 12,5 MG</td>\n",
              "      <td>1.07</td>\n",
              "      <td>3-4</td>\n",
              "    </tr>\n",
              "    <tr>\n",
              "      <th>9</th>\n",
              "      <td>VASTAREL MR</td>\n",
              "      <td>12.59</td>\n",
              "      <td>1-2-4</td>\n",
              "    </tr>\n",
              "  </tbody>\n",
              "</table>\n",
              "</div>"
            ],
            "text/plain": [
              "                                  Nombre  Precios Farmacias\n",
              "0          BETINA 24 MG X 30 COMPRIMIDOS    11.90       1-2\n",
              "1                 VONTROL 30 COMPRIMIDOS     8.90       1-3\n",
              "2  CARDIOASPIRINA 100 MG X50 COMPRIMIDOS     6.55     2-3-4\n",
              "3                       BISOPRIL 1,25 MG     3.97       0-4\n",
              "4                      LEODRIN PLUS 5600    22.84       1-4\n",
              "5             SULIX 04 MG X 100 CAPSULAS     2.30     1-3-4\n",
              "6                         CILOKARE 25 MG     3.20         0\n",
              "7                       ECTIEN XR 150 MG    23.69         2\n",
              "8                     CARVEDILOL 12,5 MG     1.07       3-4\n",
              "9                            VASTAREL MR    12.59     1-2-4"
            ]
          },
          "metadata": {
            "tags": []
          },
          "execution_count": 4
        }
      ]
    },
    {
      "cell_type": "code",
      "metadata": {
        "id": "DIZkQXi8LimC",
        "colab_type": "code",
        "colab": {}
      },
      "source": [
        "from shapely.geometry import Point\n",
        "import utm\n",
        "def to_point(x):\n",
        "  return Point(utm.from_latlon(x[0],x[1]))\n",
        "farmacias['Coord']=farmacias['Coord'].apply(to_point)\n"
      ],
      "execution_count": 0,
      "outputs": []
    },
    {
      "cell_type": "code",
      "metadata": {
        "id": "bI6spPS-NYq8",
        "colab_type": "code",
        "colab": {}
      },
      "source": [
        "comunas=gpd.read_file('Comunas.shp')\n",
        "gdf_farmacias=gpd.GeoDataFrame(farmacias,geometry=farmacias['Coord'])\n",
        "del farmacias['Coord']"
      ],
      "execution_count": 0,
      "outputs": []
    },
    {
      "cell_type": "code",
      "metadata": {
        "id": "C9mHlVFrZK8m",
        "colab_type": "code",
        "colab": {}
      },
      "source": [
        "\n",
        "def farmaco(rem):\n",
        "  print('Indice del remedio (0-9)')\n",
        "  i=2\n",
        "  med=rem.iloc[i]\n",
        "  x=med['Farmacias']\n",
        "  x=x.split(\"-\")\n",
        "  locations=[]\n",
        "  for e in x:\n",
        "    locations.append(int(e))\n",
        "  return locations\n",
        "\n",
        "\n"
      ],
      "execution_count": 0,
      "outputs": []
    },
    {
      "cell_type": "code",
      "metadata": {
        "id": "aczVlFq0bt7G",
        "colab_type": "code",
        "outputId": "f66c23c3-3fc1-474d-a527-2a6a5f5038e7",
        "colab": {
          "base_uri": "https://localhost:8080/",
          "height": 490
        }
      },
      "source": [
        "x=farmaco(remedios)\n",
        "lugar=gdf_farmacias.iloc[x]\n",
        "display(lugar.head())\n",
        "fig,ax=plt.subplots()\n",
        "comunas.loc[comunas['COMUNA']==\"VITACURA\"].plot(ax=ax, color='grey')\n",
        "lugar.plot(ax=ax,markersize=15,color='red',marker='o')\n",
        "display(comunas.loc[comunas['COMUNA']==\"VITACURA\"].head())"
      ],
      "execution_count": 8,
      "outputs": [
        {
          "output_type": "stream",
          "text": [
            "Indice del remedio (0-9)\n"
          ],
          "name": "stdout"
        },
        {
          "output_type": "display_data",
          "data": {
            "text/html": [
              "<div>\n",
              "<style scoped>\n",
              "    .dataframe tbody tr th:only-of-type {\n",
              "        vertical-align: middle;\n",
              "    }\n",
              "\n",
              "    .dataframe tbody tr th {\n",
              "        vertical-align: top;\n",
              "    }\n",
              "\n",
              "    .dataframe thead th {\n",
              "        text-align: right;\n",
              "    }\n",
              "</style>\n",
              "<table border=\"1\" class=\"dataframe\">\n",
              "  <thead>\n",
              "    <tr style=\"text-align: right;\">\n",
              "      <th></th>\n",
              "      <th>Id</th>\n",
              "      <th>Nombre</th>\n",
              "      <th>Numeracion</th>\n",
              "      <th>Calle</th>\n",
              "      <th>Comuna</th>\n",
              "      <th>Apertura</th>\n",
              "      <th>Cierre</th>\n",
              "      <th>geometry</th>\n",
              "    </tr>\n",
              "  </thead>\n",
              "  <tbody>\n",
              "    <tr>\n",
              "      <th>2</th>\n",
              "      <td>2</td>\n",
              "      <td>Farmacia Cruz Verde</td>\n",
              "      <td>6602</td>\n",
              "      <td>Av Vitacura</td>\n",
              "      <td>Vitacura</td>\n",
              "      <td>0:00</td>\n",
              "      <td>23:30</td>\n",
              "      <td>POINT Z (354125.272 6304508.949 0.000)</td>\n",
              "    </tr>\n",
              "    <tr>\n",
              "      <th>3</th>\n",
              "      <td>3</td>\n",
              "      <td>Farmacia Homeopatica</td>\n",
              "      <td>7785</td>\n",
              "      <td>Av Vitacura</td>\n",
              "      <td>Vitacura</td>\n",
              "      <td>None</td>\n",
              "      <td>None</td>\n",
              "      <td>POINT Z (354973.064 6304848.977 0.000)</td>\n",
              "    </tr>\n",
              "    <tr>\n",
              "      <th>4</th>\n",
              "      <td>4</td>\n",
              "      <td>Farmacia Salcobrand</td>\n",
              "      <td>8111</td>\n",
              "      <td>Av Vitacura</td>\n",
              "      <td>Vitacura</td>\n",
              "      <td>8:00</td>\n",
              "      <td>21:00</td>\n",
              "      <td>POINT Z (355278.039 6304899.789 0.000)</td>\n",
              "    </tr>\n",
              "  </tbody>\n",
              "</table>\n",
              "</div>"
            ],
            "text/plain": [
              "   Id                Nombre  ...  Cierre                                geometry\n",
              "2   2   Farmacia Cruz Verde  ...   23:30  POINT Z (354125.272 6304508.949 0.000)\n",
              "3   3  Farmacia Homeopatica  ...    None  POINT Z (354973.064 6304848.977 0.000)\n",
              "4   4   Farmacia Salcobrand  ...   21:00  POINT Z (355278.039 6304899.789 0.000)\n",
              "\n",
              "[3 rows x 8 columns]"
            ]
          },
          "metadata": {
            "tags": []
          }
        },
        {
          "output_type": "display_data",
          "data": {
            "text/html": [
              "<div>\n",
              "<style scoped>\n",
              "    .dataframe tbody tr th:only-of-type {\n",
              "        vertical-align: middle;\n",
              "    }\n",
              "\n",
              "    .dataframe tbody tr th {\n",
              "        vertical-align: top;\n",
              "    }\n",
              "\n",
              "    .dataframe thead th {\n",
              "        text-align: right;\n",
              "    }\n",
              "</style>\n",
              "<table border=\"1\" class=\"dataframe\">\n",
              "  <thead>\n",
              "    <tr style=\"text-align: right;\">\n",
              "      <th></th>\n",
              "      <th>ID</th>\n",
              "      <th>COMUNA</th>\n",
              "      <th>REGION</th>\n",
              "      <th>1_POB_2002</th>\n",
              "      <th>AREA</th>\n",
              "      <th>geometry</th>\n",
              "    </tr>\n",
              "  </thead>\n",
              "  <tbody>\n",
              "    <tr>\n",
              "      <th>48</th>\n",
              "      <td>52</td>\n",
              "      <td>VITACURA</td>\n",
              "      <td>REGION METROPOLITANA DE SANTIAGO</td>\n",
              "      <td>81499</td>\n",
              "      <td>28286699</td>\n",
              "      <td>POLYGON ((350739.714 6302179.987, 350735.924 6...</td>\n",
              "    </tr>\n",
              "  </tbody>\n",
              "</table>\n",
              "</div>"
            ],
            "text/plain": [
              "    ID    COMUNA  ...      AREA                                           geometry\n",
              "48  52  VITACURA  ...  28286699  POLYGON ((350739.714 6302179.987, 350735.924 6...\n",
              "\n",
              "[1 rows x 6 columns]"
            ]
          },
          "metadata": {
            "tags": []
          }
        },
        {
          "output_type": "display_data",
          "data": {
            "image/png": "[encoded data removed]",
            "text/plain": [
              "<Figure size 432x288 with 1 Axes>"
            ]
          },
          "metadata": {
            "tags": []
          }
        }
      ]
    },
    {
      "cell_type": "code",
      "metadata": {
        "id": "rW7lqQqcfflE",
        "colab_type": "code",
        "colab": {}
      },
      "source": [
        ""
      ],
      "execution_count": 0,
      "outputs": []
    }
  ]
}