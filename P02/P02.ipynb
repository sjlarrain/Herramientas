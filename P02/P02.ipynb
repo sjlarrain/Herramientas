{
 "cells": [
  {
   "cell_type": "code",
   "execution_count": 3,
   "metadata": {},
   "outputs": [],
   "source": [
    "def leer_path(path):\n",
    "    with open(path) as file:\n",
    "        lines=file.readlines()\n",
    "        lines=[l.strip() for l in lines]\n",
    "    return lines"
   ]
  },
  {
   "cell_type": "code",
   "execution_count": 4,
   "metadata": {},
   "outputs": [],
   "source": [
    "class Nodo:\n",
    "    def __init__(self,posicion):\n",
    "        self.posicion=posicion\n",
    "        self.vecinos=[]\n",
    "        self.paso=\"\"\n",
    "    \n",
    "    def add_vecino(self,nodo):\n",
    "        self.vecinos.append(nodo) #Representa un arco entre dos nodos\n",
    "    \n",
    "    def paso(self):\n",
    "        self.paso=\"S\"\n",
    "        \n",
    "    def __str__(self):\n",
    "        return  'Nodo: {}'.format(self.posicion)\n",
    "\n",
    "    "
   ]
  },
  {
   "cell_type": "code",
   "execution_count": 5,
   "metadata": {},
   "outputs": [],
   "source": [
    "def crear_grafo(matriz):\n",
    "    nodos=dict()\n",
    "    filas=len(matriz)\n",
    "    columnas=len(matriz[0])\n",
    "    for i in range(filas):\n",
    "        for j in range(columnas):\n",
    "            if matriz[i][j]==\"O\":\n",
    "                if (i,j) not in nodos.keys():\n",
    "                    nodo=Nodo((i,j))\n",
    "                    nodos.update({(i,j):nodo}) #Crea elemento solo si existía\n",
    "                for f, c in[(-1,0),(0,-1),(1,0),(0,1)]:\n",
    "                    if i+f>=0 and j+c>=0 and i+f<filas and j+c<columnas: #bordes mapa\n",
    "                        if matriz[i+f][j+c]=='O':\n",
    "                            if (i+f, j+c) not in nodos.keys(): #Si no existe, lo agrego\n",
    "                                vecino=Nodo((i+f,j+c))\n",
    "                                nodos.update({(i+f,j+c):vecino})\n",
    "                            else:\n",
    "                                vecino=nodos[(i+f,j+c)]\n",
    "                            nodos[(i,j)].add_vecino(vecino)\n",
    "    print(nodos)\n",
    "    return nodos\n",
    "        "
   ]
  },
  {
   "cell_type": "code",
   "execution_count": 4,
   "metadata": {},
   "outputs": [],
   "source": [
    "i=0\n",
    "def buscar_tigre(origen,destino):\n",
    "    global nodos\n",
    "    global recorrido\n",
    "    global i\n",
    "    inicio=nodos[origen]\n",
    "    posicion=inicio\n",
    "    mov=[]\n",
    "    while posicion.posicion!=destino:\n",
    "        i+=1\n",
    "        print(i)\n",
    "        for e in posicion.vecinos:\n",
    "            if e.posicion==nodos[destino]:\n",
    "                return mov \n",
    "            elif e.posicion!=destino:\n",
    "                print(\"Legue\")\n",
    "                print(posicion)\n",
    "                posicion=e\n",
    "                if posicion.posicion not in recorrido:\n",
    "                    recorrido.append(posicion.posicion)\n",
    "                    print(\"entre\")\n",
    "                    recorrido.append(posicion)\n",
    "                    buscar_tigre(posicion.posicion,destino)\n",
    "                else:\n",
    "                    break\n",
    "            \n",
    "                \n",
    "    "
   ]
  },
  {
   "cell_type": "code",
   "execution_count": null,
   "metadata": {},
   "outputs": [],
   "source": [
    "matriz=leer_path(\"test.txt\")\n",
    "nodos=crear_grafo(matriz)\n",
    "recorrido=[]\n",
    "caza=buscar_tigre((5,5),(0,5))\n",
    "print(caza)"
   ]
  },
  {
   "cell_type": "code",
   "execution_count": null,
   "metadata": {},
   "outputs": [],
   "source": []
  }
 ],
 "metadata": {
  "kernelspec": {
   "display_name": "Python 3",
   "language": "python",
   "name": "python3"
  },
  "language_info": {
   "codemirror_mode": {
    "name": "ipython",
    "version": 3
   },
   "file_extension": ".py",
   "mimetype": "text/x-python",
   "name": "python",
   "nbconvert_exporter": "python",
   "pygments_lexer": "ipython3",
   "version": "3.6.8"
  }
 },
 "nbformat": 4,
 "nbformat_minor": 2
}
