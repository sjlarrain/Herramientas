{
 "cells": [
  {
   "cell_type": "markdown",
   "metadata": {},
   "source": [
    "Actividad de participación 1. Santiago José Larrain Valdes"
   ]
  },
  {
   "cell_type": "markdown",
   "metadata": {},
   "source": [
    "ce75640\n",
    "Tema seleccionado Vivienda"
   ]
  },
  {
   "cell_type": "code",
   "execution_count": 1,
   "metadata": {},
   "outputs": [],
   "source": [
    "\n",
    "class Vivienda:\n",
    "    def __init__(self, dimension, material):\n",
    "        self.dimension=dimension\n",
    "        self.material=material\n",
    "\n",
    "class Bano:\n",
    "    def __init__(self):\n",
    "        self.ducha=\"1\"\n",
    "        self.wc=\"1\"\n",
    "        self.lavamanos=\"1\"\n",
    "        self.tina=\"\"\n",
    "    def __str__(self):\n",
    "        t=\"El baño contiene\"\n",
    "        t+=self.ducha+\"\\n\"\n",
    "        t+=self.wc+\"\\n\"\n",
    "        t+=self.lavamanos+self.tina\n",
    "        \n",
    "        return t\n",
    "        \n",
    "        \n",
    "        "
   ]
  },
  {
   "cell_type": "code",
   "execution_count": 2,
   "metadata": {},
   "outputs": [],
   "source": [
    "class Edificio(Vivienda):\n",
    "    amoblado=\"NO amoblado\"\n",
    "    def __init__(self,dimension,material,piso,):\n",
    "        super().__init__(dimension,material)\n",
    "        self.piso=piso\n",
    "        self.bano=Bano()\n",
    "    \n",
    "    def cambiar_bano(self):\n",
    "        self.bano.ducha=\"\"\n",
    "        self.bano.tina=\"1\"\n",
    "    \n",
    "    \n",
    "    def __str__(self):\n",
    "        t=\"Edificio \"+self.amoblado+\" en el piso \"+str(self.piso)+\"\\n\"\n",
    "        t+=\"el material es \"+self.material+\" y su dimension es \"+self.dimension+\"\\n\"\n",
    "        t+=\"el baño contiene lo siguiente:\"+\"\\n\"\n",
    "        t+=str(self.bano)\n",
    "        \n",
    "        return t\n",
    "        \n",
    "\n",
    "class Casa(Vivienda):\n",
    "    def __init__(self,dimension,material,pisos,jardin):\n",
    "        super().__init__(dimension,material)\n",
    "        self.pisos=pisos\n",
    "        self.jardin=jardin\n",
    "        self.bano=Bano()\n",
    "        self.plantas=[]\n",
    "    \n",
    "    def cambiar_bano(self):\n",
    "        self.bano.ducha=\"0\"\n",
    "        self.bano.tina=\"1\"\n",
    "        self.lavamanos=\"2\"\n",
    "    \n",
    "    def __call__(self,planta):\n",
    "        self.plantas.append(planta)\n",
    "    \n",
    "    def __str__(self):\n",
    "        t=\"La Casa tiene \"+self.pisos+\"\\n\"\n",
    "        t+=\"el material es \"+self.material+\" y su dimension es \"+self.dimension+\"\\n\"\n",
    "        t+=\"el baño contiene lo siguiente:\"+\"\\n\"\n",
    "        t+=str(self.bano)+\"\\n\"\n",
    "        t+=str(self.plantas)\n",
    "        \n",
    "        return t\n",
    "\n"
   ]
  },
  {
   "cell_type": "code",
   "execution_count": 4,
   "metadata": {},
   "outputs": [
    {
     "name": "stdout",
     "output_type": "stream",
     "text": [
      "Edificio NO amoblado en el piso 3\n",
      "el material es concreto y su dimension es 84\n",
      "el baño contiene lo siguiente:\n",
      "El baño contiene1\n",
      "1\n",
      "1\n",
      "La Casa tiene 1\n",
      "el material es madera y su dimension es 189\n",
      "el baño contiene lo siguiente:\n",
      "El baño contiene1\n",
      "1\n",
      "1\n",
      "[]\n",
      "La Casa tiene 1\n",
      "el material es madera y su dimension es 189\n",
      "el baño contiene lo siguiente:\n",
      "El baño contiene1\n",
      "1\n",
      "1\n",
      "['peumo']\n"
     ]
    }
   ],
   "source": [
    "edificio=Edificio(\"84\",\"concreto\",\"3\")\n",
    "print(edificio)\n",
    "casa=Casa(\"189\",\"madera\",\"1\",\"20\")\n",
    "print(casa)\n",
    "casa(\"peumo\")\n",
    "print(casa)"
   ]
  },
  {
   "cell_type": "code",
   "execution_count": null,
   "metadata": {},
   "outputs": [],
   "source": []
  },
  {
   "cell_type": "code",
   "execution_count": null,
   "metadata": {},
   "outputs": [],
   "source": []
  }
 ],
 "metadata": {
  "kernelspec": {
   "display_name": "Python 3",
   "language": "python",
   "name": "python3"
  },
  "language_info": {
   "codemirror_mode": {
    "name": "ipython",
    "version": 3
   },
   "file_extension": ".py",
   "mimetype": "text/x-python",
   "name": "python",
   "nbconvert_exporter": "python",
   "pygments_lexer": "ipython3",
   "version": "3.6.8"
  }
 },
 "nbformat": 4,
 "nbformat_minor": 2
}
